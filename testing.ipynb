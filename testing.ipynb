{
 "cells": [
  {
   "cell_type": "code",
   "execution_count": null,
   "metadata": {},
   "outputs": [],
   "source": [
    "import pandas as pd\n",
    "import json\n",
    "import credentials\n",
    "\n",
    "with open('./player_level.json') as file:\n",
    "   player_json = json.loads(file.read())\n",
    "\n",
    "\n",
    "player_level_df = pd.read_json('./player_level.json') #troops levels\n",
    "# player_level_df.townHallLevel = player_level_df.townHallLevel.astype(pd.Int64Dtype())\n",
    "player_level_df.dtypes\n",
    "\n",
    "laboratory_level_townhall = [\n",
    "    (1,3),\n",
    "    (2,4),\n",
    "    (3,5),\n",
    "    (4,6),\n",
    "    (5,7),\n",
    "    (6,8),\n",
    "    (7,9),\n",
    "    (8,10),\n",
    "    (9,11),\n",
    "    (10,12),\n",
    "    (11,13),\n",
    "    (12,14),\n",
    "]\n",
    "\n",
    "#max lab per town hall\n",
    "lab_level_townhall_df = pd.DataFrame(laboratory_level_townhall, columns=['LaboratoryLevel', 'townHallLevel']) \n",
    "\n",
    "\n"
   ]
  },
  {
   "cell_type": "code",
   "execution_count": null,
   "metadata": {},
   "outputs": [],
   "source": [
    "player_troop_levels_dataframe = pd.DataFrame(columns=['name', 'level', 'maxLevel', 'village'])\n",
    "player_troop_levels_dataframe\n",
    "for troop in player_json[0]['troops']:\n",
    "    troop_df = pd.DataFrame.from_records(troop, index=[0])\n",
    "    player_troop_levels_dataframe= pd.concat([player_troop_levels_dataframe, troop_df],ignore_index=True, axis=0)\n",
    "player_troop_levels_dataframe"
   ]
  },
  {
   "cell_type": "code",
   "execution_count": null,
   "metadata": {},
   "outputs": [],
   "source": [
    "characters_df = pd.read_excel('characters.xlsx',usecols=['Name', 'TroopLevel','LaboratoryLevel'])  #max troop level per lab level\n"
   ]
  },
  {
   "cell_type": "code",
   "execution_count": null,
   "metadata": {},
   "outputs": [],
   "source": [
    "#player lab level\n",
    "player_th_lab_join_df = pd.merge(player_level_df,lab_level_townhall_df, indicator=True,how='inner',left_on='townHallLevel',right_on='townHallLevel')\n",
    "player_th_lab_join_df"
   ]
  },
  {
   "cell_type": "code",
   "execution_count": null,
   "metadata": {},
   "outputs": [],
   "source": [
    "merge_lab_troop_df = pd.merge(lab_level_townhall_df,characters_df ,indicator=True, left_on='LaboratoryLevel', right_on='LaboratoryLevel', how='inner')\n",
    "merge_lab_troop_df"
   ]
  },
  {
   "cell_type": "code",
   "execution_count": null,
   "metadata": {},
   "outputs": [],
   "source": [
    "player_full_join_df = pd.merge(player_th_lab_join_df, merge_lab_troop_df, how='inner', left_on='LaboratoryLevel', right_on='LaboratoryLevel')\n",
    "player_full_join_df"
   ]
  }
 ],
 "metadata": {
  "interpreter": {
   "hash": "31f2aee4e71d21fbe5cf8b01ff0e069b9275f58929596ceb00d14d90e3e16cd6"
  },
  "kernelspec": {
   "display_name": "Python 3.8.9 64-bit",
   "language": "python",
   "name": "python3"
  },
  "language_info": {
   "codemirror_mode": {
    "name": "ipython",
    "version": 3
   },
   "file_extension": ".py",
   "mimetype": "text/x-python",
   "name": "python",
   "nbconvert_exporter": "python",
   "pygments_lexer": "ipython3",
   "version": "3.10.2"
  },
  "orig_nbformat": 4
 },
 "nbformat": 4,
 "nbformat_minor": 2
}
