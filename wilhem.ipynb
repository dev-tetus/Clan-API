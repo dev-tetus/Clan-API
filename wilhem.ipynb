{
 "cells": [
  {
   "cell_type": "code",
   "execution_count": 3,
   "metadata": {},
   "outputs": [
    {
     "name": "stdout",
     "output_type": "stream",
     "text": [
      "Coucou\n"
     ]
    }
   ],
   "source": [
    "print(\"Coucou\")\n"
   ]
  },
  {
   "cell_type": "code",
   "execution_count": 9,
   "metadata": {},
   "outputs": [
    {
     "name": "stdout",
     "output_type": "stream",
     "text": [
      "                       Wilhem %    \n",
      "Wilhem %\n",
      "Wilhem Theóphile\n"
     ]
    }
   ],
   "source": [
    "phrase = \"                       Wilhem %    \"\n",
    "print(phrase)\n",
    "phrase = phrase.strip()\n",
    "print(phrase)\n",
    "phrase = phrase.replace(\"%\",\"Theóphile\")\n",
    "print(phrase)"
   ]
  }
 ],
 "metadata": {
  "interpreter": {
   "hash": "7998e62d23ba91a616bab411c72a76a44bfe47b831edb7f2bd4a1fca3b9de8d8"
  },
  "kernelspec": {
   "display_name": "Python 3.10.2 ('discord-env': venv)",
   "language": "python",
   "name": "python3"
  },
  "language_info": {
   "codemirror_mode": {
    "name": "ipython",
    "version": 3
   },
   "file_extension": ".py",
   "mimetype": "text/x-python",
   "name": "python",
   "nbconvert_exporter": "python",
   "pygments_lexer": "ipython3",
   "version": "3.10.2"
  },
  "orig_nbformat": 4
 },
 "nbformat": 4,
 "nbformat_minor": 2
}
